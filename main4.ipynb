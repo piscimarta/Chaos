{
 "cells": [
  {
   "cell_type": "code",
   "execution_count": null,
   "id": "c183b508",
   "metadata": {},
   "outputs": [],
   "source": [
    "!pwd"
   ]
  },
  {
   "cell_type": "code",
   "execution_count": null,
   "id": "123ea2f2",
   "metadata": {},
   "outputs": [],
   "source": [
    "ls"
   ]
  },
  {
   "cell_type": "code",
   "execution_count": null,
   "id": "2802c1ea",
   "metadata": {},
   "outputs": [],
   "source": [
    "import os\n",
    "import pandas as pd\n",
    "import numpy as np\n",
    "import matplotlib as mpl\n",
    "import math \n",
    "from scipy.optimize import curve_fit\n",
    "from scipy.special import wofz\n",
    "\n",
    "import matplotlib.pyplot as plt\n",
    "mpl.rcParams.update(mpl.rcParamsDefault)\n",
    "plt.rcParams.update(plt.rcParamsDefault)\n",
    "cmap = plt.get_cmap('Set3')\n",
    "cmap2 = plt.get_cmap('Set1')\n",
    "cmap3 = plt.get_cmap('Dark2')\n",
    "cmap4 = plt.get_cmap('tab20b')\n",
    "cmap5 = plt.get_cmap('Set2')\n",
    "cmap6 = plt.get_cmap('tab10')\n",
    "cmap7 = plt.get_cmap('tab20')"
   ]
  },
  {
   "cell_type": "code",
   "execution_count": null,
   "id": "9e10b0c1",
   "metadata": {},
   "outputs": [],
   "source": [
    "# parameters for figure size\n",
    "w = 7\n",
    "h = 6\n",
    "save = True "
   ]
  },
  {
   "cell_type": "code",
   "execution_count": null,
   "id": "b6162131",
   "metadata": {},
   "outputs": [],
   "source": [
    "#importing data\n",
    "RK4=pd.read_csv('./3bodyRK4_delta=2.00e-02_adaptive_eta=6.3e-03.txt',\n",
    "names = [\"t\", \"p1\",\"x1\", \"y1\", \"z1\",\"vx1\",\"vy1\",\"vz1\", \"p2\", \"x2\",\"y2\" ,\"z2\", \"vx2\",\"vy2\",\"vz2\",\"p3\",\"x3\", \"y3\", \"z3\",\"vx3\",\"vy3\",\"vz3\", \"e1\",\"e2\",\"a1\",\"a2\", \"h\", \"counts\"],\n",
    "encoding='latin-1',\n",
    "    sep=\" \"\n",
    ")\n",
    "\n"
   ]
  },
  {
   "cell_type": "code",
   "execution_count": null,
   "id": "d698302e",
   "metadata": {},
   "outputs": [],
   "source": [
    "plt.plot(RK4.x1, RK4.y1)\n",
    "plt.plot(RK4.x2, RK4.y2)\n",
    "plt.plot(RK4.x3, RK4.y3)\n",
    "plt.savefig(\"nonadaptive_3body.pdf\")"
   ]
  },
  {
   "cell_type": "markdown",
   "id": "c88abd21",
   "metadata": {},
   "source": [
    "# plotting semi-maj axis and eccentricity"
   ]
  },
  {
   "cell_type": "markdown",
   "id": "15e9b807",
   "metadata": {},
   "source": [
    "#"
   ]
  },
  {
   "cell_type": "code",
   "execution_count": null,
   "id": "58b5c8c4",
   "metadata": {},
   "outputs": [],
   "source": [
    "\n",
    "\n",
    "plt.plot(RK4.t, RK4.a1, ms=1, linestyle= 'solid',color = cmap4(0), zorder = 1, label='Planet 1')\n",
    "plt.plot(RK4.t, RK4.a2, ms=1,color = cmap4(18),zorder = 0,label='Planet 2')\n",
    "#plt.scatter(test.t, test.e1, s=0.1,color = cmap4(0), zorder = 1, label='eccentiricty planet 1')\n",
    "\n",
    "\n",
    "# plot design\n",
    "plt.xlabel('t',fontsize = 14)\n",
    "plt.ylabel('Semi-major axis, a', fontsize = 14)\n",
    "plt.xticks(fontsize=14)\n",
    "plt.yticks(fontsize=14)\n",
    "plt.legend(fancybox= True, framealpha=0, fontsize= 14, loc='upper left')\n",
    "\n",
    "\n",
    "plt.savefig(\"semimajaxis_pb4.pdf\")"
   ]
  },
  {
   "cell_type": "code",
   "execution_count": null,
   "id": "799de8ab",
   "metadata": {},
   "outputs": [],
   "source": [
    "plt.plot(RK4.t, RK4.e1, ms=1, linestyle= 'solid',color = cmap4(0), zorder = 0, label='Planet 1')\n",
    "plt.plot(RK4.t, RK4.e2, ms=1,color = cmap4(18), linestyle = 'dotted',zorder = 1,label='Planet 2')\n",
    "#plt.scatter(test.t, test.e1, s=0.1,color = cmap4(0), zorder = 1, label='eccentiricty planet 1')\n",
    "\n",
    "\n",
    "# plot design\n",
    "plt.xlabel('t',fontsize = 14)\n",
    "plt.ylabel('Eccentricity, e', fontsize = 14)\n",
    "plt.xticks(fontsize=14)\n",
    "plt.yticks(fontsize=14)\n",
    "plt.legend(fancybox= True, framealpha=0, fontsize= 14, loc='upper left')\n",
    "\n",
    "\n",
    "plt.savefig(\"eccentricities_pb4.pdf\")"
   ]
  },
  {
   "cell_type": "markdown",
   "id": "2ae695a1",
   "metadata": {},
   "source": [
    "# count close encounters"
   ]
  },
  {
   "cell_type": "code",
   "execution_count": null,
   "id": "77e64b0c",
   "metadata": {},
   "outputs": [],
   "source": [
    "plt.plot(RK4.t, RK4.counts)"
   ]
  },
  {
   "cell_type": "code",
   "execution_count": null,
   "id": "fca1e18b",
   "metadata": {},
   "outputs": [],
   "source": []
  },
  {
   "cell_type": "code",
   "execution_count": null,
   "id": "7a5901fc",
   "metadata": {},
   "outputs": [],
   "source": []
  },
  {
   "cell_type": "code",
   "execution_count": null,
   "id": "23650414",
   "metadata": {},
   "outputs": [],
   "source": []
  },
  {
   "cell_type": "code",
   "execution_count": null,
   "id": "d6b96f59",
   "metadata": {},
   "outputs": [],
   "source": []
  }
 ],
 "metadata": {
  "kernelspec": {
   "display_name": "Python 3 (ipykernel)",
   "language": "python",
   "name": "python3"
  },
  "language_info": {
   "codemirror_mode": {
    "name": "ipython",
    "version": 3
   },
   "file_extension": ".py",
   "mimetype": "text/x-python",
   "name": "python",
   "nbconvert_exporter": "python",
   "pygments_lexer": "ipython3",
   "version": "3.10.9"
  }
 },
 "nbformat": 4,
 "nbformat_minor": 5
}
